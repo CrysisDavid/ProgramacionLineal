{
  "nbformat": 4,
  "nbformat_minor": 0,
  "metadata": {
    "colab": {
      "provenance": [],
      "include_colab_link": true
    },
    "kernelspec": {
      "name": "python3",
      "display_name": "Python 3"
    },
    "language_info": {
      "name": "python"
    }
  },
  "cells": [
    {
      "cell_type": "markdown",
      "metadata": {
        "id": "view-in-github",
        "colab_type": "text"
      },
      "source": [
        "<a href=\"https://colab.research.google.com/github/CrysisDavid/ProgramacionLineal/blob/main/Taller2_SymPy_SciPy.ipynb\" target=\"_parent\"><img src=\"https://colab.research.google.com/assets/colab-badge.svg\" alt=\"Open In Colab\"/></a>"
      ]
    },
    {
      "cell_type": "markdown",
      "source": [
        "# Corporación Universitaria Remington\n",
        "## Ingeniería de Sistemas\n",
        "### Prof. Diego Fernando Marin -  ```diego.marin@uniremington.edu.co```"
      ],
      "metadata": {
        "id": "ozGp4KL4MPxS"
      }
    },
    {
      "cell_type": "markdown",
      "source": [
        "## Presentado por:\n",
        "\n",
        "- Nombre: *Nombre completo del estudiante*\n",
        "- Correo: `xxxxxxxx@miremington.edu.co`"
      ],
      "metadata": {
        "id": "1UpCwZ63wG8-"
      }
    },
    {
      "cell_type": "markdown",
      "source": [
        "# SymPy\n",
        "\n",
        "En los lenguajes de programación es común encontrar funciones matemáticas, pero están orientadas a calcular el resultado numérico de la función, por lo que son útiles para el análisis matemático de las mismas.\n",
        "\n",
        "Con [SymPy](https://www.sympy.org/), en la computación (o matemática) simbólica, las funciones mantienen la expresión sin calcular el resultado numérico. Estas expresiones pueden ser utilizadas y combinadas con otras expresiones, pero además es posible aplicar operaciones sobre las expresiones y en cada caso obtener otra expresión como resultado.\n",
        "\n",
        "Si es necesario, también se puede obtener el resultado numérico reemplazando los simbolos con valores."
      ],
      "metadata": {
        "id": "UXLfEk_3NV7J"
      }
    },
    {
      "cell_type": "code",
      "source": [
        "import numpy as np\n",
        "import matplotlib.pyplot as plt\n",
        "import math"
      ],
      "metadata": {
        "id": "GMk4xJeHDNm-"
      },
      "execution_count": null,
      "outputs": []
    },
    {
      "cell_type": "code",
      "source": [
        "# la forma convencional de importar la librería SymPy\n",
        "import sympy as sy\n",
        "\n",
        "sy.__version__"
      ],
      "metadata": {
        "id": "CxQIiGIiNexI",
        "colab": {
          "base_uri": "https://localhost:8080/",
          "height": 35
        },
        "outputId": "9d1b6165-df5c-4b8c-e86a-29ef604d935a"
      },
      "execution_count": null,
      "outputs": [
        {
          "output_type": "execute_result",
          "data": {
            "text/plain": [
              "'1.12'"
            ],
            "application/vnd.google.colaboratory.intrinsic+json": {
              "type": "string"
            }
          },
          "metadata": {},
          "execution_count": 4
        }
      ]
    },
    {
      "cell_type": "markdown",
      "source": [
        "## diferencia cálculo númerico vs. simbólico"
      ],
      "metadata": {
        "id": "LEbDKdIifXyn"
      }
    },
    {
      "cell_type": "code",
      "source": [
        "# cálculo numérico - racionales\n"
      ],
      "metadata": {
        "id": "z4FcLmrEfb6A"
      },
      "execution_count": null,
      "outputs": []
    },
    {
      "cell_type": "code",
      "source": [
        "# cálculo simbólico - racionales\n"
      ],
      "metadata": {
        "id": "6PZqGOfzflNK"
      },
      "execution_count": null,
      "outputs": []
    },
    {
      "cell_type": "code",
      "source": [
        "# cálculo numérico - raiz cuadrada\n"
      ],
      "metadata": {
        "id": "rmAqKWLuf_51"
      },
      "execution_count": null,
      "outputs": []
    },
    {
      "cell_type": "code",
      "source": [
        "# cálculo simbólico - raiz cuadrada\n"
      ],
      "metadata": {
        "id": "oKYPiP8CgCE2"
      },
      "execution_count": null,
      "outputs": []
    },
    {
      "cell_type": "markdown",
      "source": [
        "## Símbolos"
      ],
      "metadata": {
        "id": "Nss6t9v2gd8X"
      }
    },
    {
      "cell_type": "code",
      "source": [
        "# creación de símbolos\n"
      ],
      "metadata": {
        "id": "c1nDLLtcghjz"
      },
      "execution_count": null,
      "outputs": []
    },
    {
      "cell_type": "code",
      "source": [
        "type(x)"
      ],
      "metadata": {
        "id": "FkGek7y9gnOC"
      },
      "execution_count": null,
      "outputs": []
    },
    {
      "cell_type": "code",
      "source": [],
      "metadata": {
        "id": "XfIFvv8flHXX"
      },
      "execution_count": null,
      "outputs": []
    },
    {
      "cell_type": "markdown",
      "source": [
        "## Constantes"
      ],
      "metadata": {
        "id": "zKiQpHqsg4D6"
      }
    },
    {
      "cell_type": "code",
      "source": [],
      "metadata": {
        "id": "Th2b-1ughRcQ"
      },
      "execution_count": null,
      "outputs": []
    },
    {
      "cell_type": "markdown",
      "source": [
        "## Ecuaciones"
      ],
      "metadata": {
        "id": "bR13kv7az9os"
      }
    },
    {
      "cell_type": "code",
      "source": [],
      "metadata": {
        "id": "NKnjbCiX0FIo"
      },
      "execution_count": null,
      "outputs": []
    },
    {
      "cell_type": "markdown",
      "source": [
        "## Factorización & Expansión"
      ],
      "metadata": {
        "id": "JbJgHozx0SoE"
      }
    },
    {
      "cell_type": "code",
      "source": [],
      "metadata": {
        "id": "1snJDghX0cpn"
      },
      "execution_count": null,
      "outputs": []
    },
    {
      "cell_type": "markdown",
      "source": [
        "## Integración & Derivada"
      ],
      "metadata": {
        "id": "IFhpel7L0nH1"
      }
    },
    {
      "cell_type": "code",
      "source": [],
      "metadata": {
        "id": "dsL54YXr0qhB"
      },
      "execution_count": null,
      "outputs": []
    },
    {
      "cell_type": "markdown",
      "source": [
        "## Sistemas de ecuaciones"
      ],
      "metadata": {
        "id": "qRaUMjEL6vuk"
      }
    },
    {
      "cell_type": "code",
      "source": [],
      "metadata": {
        "id": "_Pa4FjT-9cAJ"
      },
      "execution_count": null,
      "outputs": []
    },
    {
      "cell_type": "markdown",
      "source": [
        "# SciPy\n",
        "\n",
        "[SciPy](https://scipy.org/) es una colección de algoritmos matemáticos y las funciones que permiten su uso, construidas sobre ```NumPy``` y que proporcionan las clases y métodos para procesar datos científicos de la misma forma que MATLAB, [Octave](https://octave.org/), [SciLab](https://www.scilab.org/) y similares."
      ],
      "metadata": {
        "id": "RYXyVlMCCShv"
      }
    },
    {
      "cell_type": "code",
      "source": [
        "# la forma convencional de importar la librería SciPy\n",
        "import scipy as sp\n",
        "from scipy import stats\n",
        "from scipy import optimize\n",
        "\n",
        "sp.__version__"
      ],
      "metadata": {
        "id": "8423rFIGCwWV"
      },
      "execution_count": null,
      "outputs": []
    },
    {
      "cell_type": "markdown",
      "source": [
        "## Estadística"
      ],
      "metadata": {
        "id": "2f3yPqxYDCmM"
      }
    },
    {
      "cell_type": "code",
      "source": [
        "# genere 500 enteros aleatorios entre 0 y 1000\n",
        "xs = np.random.randint(0, 1000, (500))\n",
        "xs[:50] # los primeros 50"
      ],
      "metadata": {
        "id": "N7olSzVsC9-o"
      },
      "execution_count": null,
      "outputs": []
    },
    {
      "cell_type": "code",
      "source": [
        "# mínimo, máximo, sumatoria\n",
        "xs.min(), xs.max(), xs.sum()"
      ],
      "metadata": {
        "id": "zFx5RzHdDUSQ"
      },
      "execution_count": null,
      "outputs": []
    },
    {
      "cell_type": "code",
      "source": [
        "# media, varianza y desviación estandar\n",
        "xs.mean(), xs.var(), xs.std()"
      ],
      "metadata": {
        "id": "Xyz9Dbp3Dgwe"
      },
      "execution_count": null,
      "outputs": []
    },
    {
      "cell_type": "code",
      "source": [
        "# media geométrica: raíz n-ésima del producto de todos los números\n",
        "stats.gmean(xs)"
      ],
      "metadata": {
        "id": "r7rI4Y9BDcq7"
      },
      "execution_count": null,
      "outputs": []
    },
    {
      "cell_type": "code",
      "source": [
        "# media armónica: inverso de la media aritmética\n",
        "stats.hmean(xs)"
      ],
      "metadata": {
        "id": "Lm7K3gvADuyY"
      },
      "execution_count": null,
      "outputs": []
    },
    {
      "cell_type": "code",
      "source": [
        "# skewness: grado de asimetría de la distribución\n",
        "stats.skew(xs)"
      ],
      "metadata": {
        "id": "mxvAeuFUEBB_"
      },
      "execution_count": null,
      "outputs": []
    },
    {
      "cell_type": "code",
      "source": [
        "# kurtosis: grado de concentración de los valores\n",
        "stats.kurtosis(xs)"
      ],
      "metadata": {
        "id": "E8YpfNtDESpA"
      },
      "execution_count": null,
      "outputs": []
    },
    {
      "cell_type": "code",
      "source": [
        "stats.describe(xs)"
      ],
      "metadata": {
        "id": "orVXqlm8DWNT"
      },
      "execution_count": null,
      "outputs": []
    },
    {
      "cell_type": "markdown",
      "source": [
        "## Encontrar el mínimo de una función"
      ],
      "metadata": {
        "id": "UiPR-zyvHo7P"
      }
    },
    {
      "cell_type": "code",
      "source": [
        "def f(x):\n",
        "    return x**2 + 10*np.sin(x)"
      ],
      "metadata": {
        "id": "vHLcrgeZHsrN"
      },
      "execution_count": null,
      "outputs": []
    },
    {
      "cell_type": "code",
      "source": [
        "# usando el método Nelder Mead, por defecto\n"
      ],
      "metadata": {
        "id": "FQzp8ILwIEQQ"
      },
      "execution_count": null,
      "outputs": []
    },
    {
      "cell_type": "code",
      "source": [
        "# usando el método BFGS, L=memoria limitada, B=variación Nocedal-Byrd\n"
      ],
      "metadata": {
        "id": "gjsR3zyKIOo3"
      },
      "execution_count": null,
      "outputs": []
    },
    {
      "cell_type": "markdown",
      "source": [
        "La cadena `'ro'` representa una marca roja en forma circular. Otras opciones para color son `rgbycmk`, y para las marcas tenemos `o.sd*^`."
      ],
      "metadata": {
        "id": "Zg6n3vXTDQyL"
      }
    },
    {
      "cell_type": "code",
      "source": [],
      "metadata": {
        "id": "dbfDRUx36YWC"
      },
      "execution_count": null,
      "outputs": []
    },
    {
      "cell_type": "markdown",
      "source": [
        "# Ejercicios"
      ],
      "metadata": {
        "id": "196LKyXLgTlE"
      }
    },
    {
      "cell_type": "code",
      "source": [
        "x, y, z = sy.symbols(\"x y z\")"
      ],
      "metadata": {
        "id": "NWF2CAOVqVBJ"
      },
      "execution_count": null,
      "outputs": []
    },
    {
      "cell_type": "markdown",
      "source": [
        "1.1 Simplifique la expresión de la siguiente ecuación:\n",
        "\n",
        "$${ x^3 + x^2 - x - 1 } \\over { x^2 + 2x + 1 }$$"
      ],
      "metadata": {
        "id": "jRh0k1T9rSnp"
      }
    },
    {
      "cell_type": "code",
      "source": [],
      "metadata": {
        "id": "B8zFarwgrTR8"
      },
      "execution_count": null,
      "outputs": []
    },
    {
      "cell_type": "markdown",
      "source": [
        "1.2 Genere los términos de la siguiente ecuación:\n",
        "\n",
        "$$3x (4 - x) + (2x - 5)^2$$"
      ],
      "metadata": {
        "id": "PhzhKVmPsZxF"
      }
    },
    {
      "cell_type": "code",
      "source": [],
      "metadata": {
        "id": "hptkyK2csXo6"
      },
      "execution_count": null,
      "outputs": []
    },
    {
      "cell_type": "markdown",
      "source": [
        "1.3 Factorice la siguiente ecuación:\n",
        "\n",
        "$$ 6x^4y + 15x^3y − 9x^2y $$"
      ],
      "metadata": {
        "id": "Fx8_HS95wTr2"
      }
    },
    {
      "cell_type": "code",
      "source": [],
      "metadata": {
        "id": "MlCnShEuwcgY"
      },
      "execution_count": null,
      "outputs": []
    },
    {
      "cell_type": "markdown",
      "source": [
        "1.4 Encuentre la solución para la siguiente ecuación:\n",
        "$$3x^2 − 8 = 100$$"
      ],
      "metadata": {
        "id": "AjBoDM5WvDHh"
      }
    },
    {
      "cell_type": "code",
      "source": [],
      "metadata": {
        "id": "-gqe5zf3vM94"
      },
      "execution_count": null,
      "outputs": []
    },
    {
      "cell_type": "markdown",
      "source": [
        "1.5 Encuentre la solución para la siguiente ecuación:\n",
        "$$2x^3 + 16 = 0$$"
      ],
      "metadata": {
        "id": "8YCihPa3vnOC"
      }
    },
    {
      "cell_type": "code",
      "source": [],
      "metadata": {
        "id": "jonC-KeivvQ-"
      },
      "execution_count": null,
      "outputs": []
    },
    {
      "cell_type": "markdown",
      "source": [
        "1.6 Encuentre la solución para la siguiente ecuación:\n",
        "\n",
        "$$\\left (  2x + {y \\over 5} \\right ) ^ 3 = 0$$"
      ],
      "metadata": {
        "id": "Gt_uWHsHoVME"
      }
    },
    {
      "cell_type": "code",
      "source": [],
      "metadata": {
        "id": "1Z8kWsnsoVbf"
      },
      "execution_count": null,
      "outputs": []
    },
    {
      "cell_type": "markdown",
      "source": [
        "1.7 Verifique que la siguiente igualdad es cierta:\n",
        "\n",
        "$$ {d \\over dx} tan(x) = \\lim_{y \\,\\to\\, 0} {{tan(x+y)-tan(x)} \\over y } $$"
      ],
      "metadata": {
        "id": "s9qPz6P1zKM9"
      }
    },
    {
      "cell_type": "code",
      "source": [],
      "metadata": {
        "id": "GjGcBBrCzoW8"
      },
      "execution_count": null,
      "outputs": []
    },
    {
      "cell_type": "markdown",
      "source": [
        "1.8. Calcule el valor de la siguiente integral:\n",
        "\n",
        "$$\\int_{-\\infty}^\\infty {\\sin x^2  dx}$$\n"
      ],
      "metadata": {
        "id": "ZtW8vBbfgWSq"
      }
    },
    {
      "cell_type": "code",
      "source": [],
      "metadata": {
        "id": "PJOvCgts9xbW"
      },
      "execution_count": null,
      "outputs": []
    },
    {
      "cell_type": "markdown",
      "source": [
        "1.9 Encuentre la solución para el siguiente sistema de ecuaciones:\n",
        "\n",
        "$$ x + 5y = 2$$\n",
        "$$-3x + 6y = 15$$"
      ],
      "metadata": {
        "id": "MkMhECJ68aYp"
      }
    },
    {
      "cell_type": "code",
      "source": [],
      "metadata": {
        "id": "67zlSsEl8grr"
      },
      "execution_count": null,
      "outputs": []
    },
    {
      "cell_type": "markdown",
      "source": [
        "1.10 Encuentre la solución para el siguiente sistema de ecuaciones:\n",
        "\n",
        "$$3x + {y \\over2} - 5 = 0$$\n",
        "$$x^2 - 2y + 7 = 0$$"
      ],
      "metadata": {
        "id": "7dIUQj7epk_9"
      }
    },
    {
      "cell_type": "code",
      "source": [],
      "metadata": {
        "id": "pIiGVl-3hgL-"
      },
      "execution_count": null,
      "outputs": []
    },
    {
      "cell_type": "markdown",
      "source": [
        "1.11 Encuentre y grafique el valor mínimo (vertice) de la siguiente función cuadrática:\n",
        "\n",
        "$$x^2 + 2x + 3$$"
      ],
      "metadata": {
        "id": "JhS2eHJd_DT-"
      }
    },
    {
      "cell_type": "code",
      "source": [],
      "metadata": {
        "id": "R-IE6hxlEAqf"
      },
      "execution_count": null,
      "outputs": []
    },
    {
      "cell_type": "markdown",
      "source": [
        "**Nota**:\n",
        "1. Saque una copia con la opción *Archivo* → *Guardar una copia en Drive*.\n",
        "2. Renombre el *cuaderno* a: `solucion_Taller2_SymPy_SciPyNombreCompleto.ipynb`.\n",
        "3. Ejecute todas las celdas para revisar los temas del taller.\n",
        "4. Solucione todos los puntos del taller.\n",
        "5. Comparta la solución y envié el link al profesor, antes de la fecha limite (no se aceptan fuera de tiempo).\n",
        "6. No copie! la copia tiene nota **1.0**."
      ],
      "metadata": {
        "id": "AZuzKsf-vrmm"
      }
    }
  ]
}