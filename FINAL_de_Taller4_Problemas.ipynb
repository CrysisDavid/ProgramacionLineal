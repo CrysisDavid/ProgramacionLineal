{
  "nbformat": 4,
  "nbformat_minor": 0,
  "metadata": {
    "colab": {
      "provenance": [],
      "include_colab_link": true
    },
    "kernelspec": {
      "name": "python3",
      "display_name": "Python 3"
    },
    "language_info": {
      "name": "python"
    }
  },
  "cells": [
    {
      "cell_type": "markdown",
      "metadata": {
        "id": "view-in-github",
        "colab_type": "text"
      },
      "source": [
        "<a href=\"https://colab.research.google.com/github/CrysisDavid/ProgramacionLineal/blob/main/FINAL_de_Taller4_Problemas.ipynb\" target=\"_parent\"><img src=\"https://colab.research.google.com/assets/colab-badge.svg\" alt=\"Open In Colab\"/></a>"
      ]
    },
    {
      "cell_type": "markdown",
      "source": [
        "# Corporación Universitaria Remington\n",
        "## Ingeniería de Sistemas - curso Programación Lineal\n",
        "### Prof. Diego Fernando Marin -  ```diego.marin@uniremington.edu.co```"
      ],
      "metadata": {
        "id": "cggarVuqY0hU"
      }
    },
    {
      "cell_type": "markdown",
      "source": [
        "## Presentado por:\n",
        "\n",
        "- Nombre: *Nombre completo del estudiante*\n",
        "- Correo: *Correo **institucional** del estudiante*"
      ],
      "metadata": {
        "id": "SGpy6ySPY5w9"
      }
    },
    {
      "cell_type": "code",
      "source": [
        "# Librerías:\n"
      ],
      "metadata": {
        "id": "O40rpVhO1BDN"
      },
      "execution_count": null,
      "outputs": []
    },
    {
      "cell_type": "markdown",
      "source": [
        "#Ejemplo: Fabrica\n",
        "\n",
        "Una fabrica produce 2 productos llamados $A$ y $B$.\n",
        "\n",
        "Para fabricar cada producto se necesita un cantidad determinada de unidades de materiales y de unidades de tiempo de trabajo, la venta de cada unidad de producto genera un ingreso, de acuerdo a esta tabla:\n",
        "\n",
        "||producto $A$|producto $B$|\n",
        "|:--|:-:|:-:|\n",
        "|Material|2|5|\n",
        "|Tiempo de Trabajo|4|2|\n",
        "|Ingreso|3|4|\n",
        "\n",
        "La fabrica dispone de 30 unidades de materiales y 20 unidades de tiempo de trabajo.\n",
        "\n",
        "La fabrica necesita un plan de producción que le indique cuántas unidades de cada producto debe fabricar para consumir todos los recursos y obtener el máximo de utilidad.\n"
      ],
      "metadata": {
        "id": "XaxOJ29WhGpX"
      }
    },
    {
      "cell_type": "markdown",
      "source": [
        "###Solución:\n",
        "\n",
        "$$ \\max_{x,y} \\quad z = 3x + 4y\\\\\n",
        "sujeto\\ a:\\\\\n",
        "2x + 5y \\quad \\leq 30 \\\\\n",
        "4x + 2y \\quad \\leq 20 \\\\\n",
        "\\quad x, y \\quad \\geq 0 $$\n"
      ],
      "metadata": {
        "id": "OlD6v_kPhLPO"
      }
    },
    {
      "cell_type": "code",
      "source": [
        "# función objetivo z: [x, y]\n",
        "c = [-3, -4]\n",
        "# restricciones:\n",
        "A = [[2, 5], [4, 2]]\n",
        "b = [30, 20]\n",
        "# limites (min, max)\n",
        "x_lim = (0, None)\n",
        "y_lim = (0, None)\n",
        "# solución:\n",
        "sol = linprog(c, A_ub=A, b_ub=b, bounds=[x_lim, y_lim])\n",
        "print(f\"\"\"Solución Númerica:\n",
        "Unidades de Producto A = {sol.x[0]}\n",
        "Unidades de Producto B = {sol.x[1]}\n",
        "Ingresos ${-sol.fun}\"\"\")"
      ],
      "metadata": {
        "id": "UGTdU80yhS7d"
      },
      "execution_count": null,
      "outputs": []
    },
    {
      "cell_type": "code",
      "source": [
        "# Solución Gráfica:\n",
        "x = np.linspace(0, 5, 100)\n",
        "y1 = (30 - 2*x)/5\n",
        "y2 = (20 - 4*x)/2\n",
        "# ecuación 1\n",
        "plt.plot(x, y1, color='red')\n",
        "plt.fill_between(x, 0, y1, color='red', alpha=0.2)\n",
        "# ecuación 2\n",
        "plt.plot(x, y2, color='blue')\n",
        "plt.fill_between(x, 0, y2, color='blue', alpha=0.2)\n",
        "# solución\n",
        "plt.plot(sol.x[0], sol.x[1], 'o', color='black')\n",
        "plt.grid()\n",
        "plt.show()"
      ],
      "metadata": {
        "id": "JjNUb3JR8oS8"
      },
      "execution_count": null,
      "outputs": []
    },
    {
      "cell_type": "markdown",
      "source": [
        "#Problema 1: Ecuaciones\n"
      ],
      "metadata": {
        "id": "u7PrAlA47nYG"
      }
    },
    {
      "cell_type": "markdown",
      "source": [
        "### Solución:\n",
        "\n",
        "$$ \\min_{x,y} \\quad z = 5x + 3y \\\\\n",
        "sujeto\\ a:\\\\\n",
        "x + 2y \\quad \\leq 14 \\\\\n",
        "3x - y \\quad \\geq 0 \\\\\n",
        "x - y \\quad \\leq 2 $$"
      ],
      "metadata": {
        "id": "Ncd9KubM7J6S"
      }
    },
    {
      "cell_type": "code",
      "source": [],
      "metadata": {
        "id": "cqcamcvK7KHc"
      },
      "execution_count": null,
      "outputs": []
    },
    {
      "cell_type": "markdown",
      "source": [
        "#Problema 2: Combustible\n",
        "\n",
        "Supongamos que una empresa de logística está planeando una ruta para sus camiones que transportan mercancías. El objetivo es minimizar el consumo de combustible durante el viaje. Para lograr esto, deben determinar la cantidad óptima de combustible a cargar en cada camión antes de partir y planificar la velocidad y la carga de manera eficiente.\n",
        "\n",
        "El consumo de combustible, en galones por kilómetro, se puede expresar como una función lineal en términos de la velocidad del camión en km/h y la carga del camión en toneladas. La función de consumo de combustible se modela de la siguiente manera:\n",
        "\n",
        "$$min_{x,y} \\quad z = 5x + 3y$$\n",
        "\n",
        "Sin embargo, existen restricciones en cuanto a la velocidad máxima permitida y la capacidad de carga de los camiones.\n",
        "\n",
        "1. La velocidad del camión no debe superar los 100 km/h.\n",
        "$$ x \\leq 100 $$\n",
        "\n",
        "2. La capacidad máxima de carga de los camiones es de 10 toneladas:\n",
        "$$ y \\leq 10 $$\n",
        "\n",
        "3. Para cumplir con las regulaciones de tráfico, se debe respetar una restricción de velocidad mínima, que impide que el camión viaje a menos de 30 km/h:\n",
        "$$ x \\geq 30 $$\n",
        "\n",
        "Dado que la empresa quiere ser eficiente en el uso del combustible, también se establece una restricción adicional:\n",
        "\n",
        "4. El camión debe mantener una velocidad media de al menos 60 km/h en todo el viaje, lo que se traduce en la siguiente restricción:\n",
        "$$\n",
        "\\frac{\\text{Distancia del viaje}}{x} \\leq \\frac{\\text{Distancia total del viaje}}{60}\n",
        "$$\n",
        "\n",
        "El objetivo es encontrar los valores de x (velocidad) e y (carga) que minimizan el consumo total de combustible (z) sujeto a estas restricciones. Esta optimización garantizará que la empresa de logística use el combustible de manera eficiente y cumpla con las regulaciones de velocidad y carga."
      ],
      "metadata": {
        "id": "PIiVho4tbyVE"
      }
    },
    {
      "cell_type": "markdown",
      "source": [
        "###Solución:\n",
        "\n",
        "_aquí va el sistema de ecuaciones_\n",
        "$$ z = ¿? $$"
      ],
      "metadata": {
        "id": "xdNkP5lNdvpK"
      }
    },
    {
      "cell_type": "code",
      "source": [],
      "metadata": {
        "id": "OXprayKRb_pB"
      },
      "execution_count": null,
      "outputs": []
    },
    {
      "cell_type": "markdown",
      "source": [
        "#Problema 3: Yogurt\n",
        "\n",
        "Una fabrica produce 2 tipos de yogurt de fresa A y B.\n",
        "\n",
        "En su producción se utilizan las siguientes cantidades de materias primas, en Kilogramos:\n",
        "\n",
        "||yogurt A|yogurt B|Inventario|\n",
        "|:--|:-:|:-:|:-:|\n",
        "|Fresa|2|1|800|\n",
        "|Leche|1|2|700|\n",
        "|Azúcar|0|1|300|\n",
        "\n",
        "El precio de venta de 1 Kg de yogurt A y A, es $4 y $5 respectivamente.\n",
        "\n",
        "La fabrica necesita un plan de producción que le indique cuántos kilogramos de cada tipo de yogurt debe fabricar para obtener el máximo de utilidad."
      ],
      "metadata": {
        "id": "ZrRCMAxacOx-"
      }
    },
    {
      "cell_type": "markdown",
      "source": [
        "###Solución:\n",
        "\n",
        "_aquí va el sistema de ecuaciones_\n",
        "$$ z = ¿? $$"
      ],
      "metadata": {
        "id": "DmHPQvtjcYnG"
      }
    },
    {
      "cell_type": "code",
      "source": [],
      "metadata": {
        "id": "HJBtzjjVcaPI"
      },
      "execution_count": null,
      "outputs": []
    },
    {
      "cell_type": "markdown",
      "source": [
        "#Problema 4: Mezcla de Alimentos\n",
        "\n",
        "Un médico desea mezclar dos tipos de alimentos de tal manera que el contenido vitamínico de la mezcla contenga al menos 8 unidades de vitamina A y 10 unidades de vitamina C. El alimento $A_1$ contiene 2 unidades/kg de vitamina A y 1 unidad/kg de vitamina C. El alimento _$A_2$ contiene 1 unidad/kg de vitamina A y 2 unidades/kg de vitamina C. El alimento $A_1$ cuesta $25,000/kg y el alimento $A_2$ cuesta $35,000/kg.\n",
        "\n",
        "Formule este problema como un problema de programación lineal para minimizar el costo de dicha mezcla."
      ],
      "metadata": {
        "id": "Hlc-EJyubEYw"
      }
    },
    {
      "cell_type": "markdown",
      "source": [
        "###Solución:\n",
        "\n",
        "_aquí va el sistema de ecuaciones_\n",
        "$$ z = ¿? $$"
      ],
      "metadata": {
        "id": "ymc4oOrtbLHe"
      }
    },
    {
      "cell_type": "code",
      "source": [],
      "metadata": {
        "id": "MjVpJkFubc3P"
      },
      "execution_count": null,
      "outputs": []
    },
    {
      "cell_type": "markdown",
      "source": [
        "#Problema 5: Productos\n",
        "\n",
        "La empresa JQK fabrica dos productos ($X$ y $Y$) utilizando dos máquinas ($A$ y $B$). Cada unidad de $X$ que se produce requiere 50 minutos de tiempo de procesamiento en la máquina $A$ y 30 minutos de tiempo de procesamiento en la máquina $B$. Cada unidad de $Y$ que se produce requiere 24 minutos de tiempo de procesamiento en la máquina $A$ y 33 minutos de tiempo de procesamiento en la máquina $B$.\n",
        "\n",
        "Al inicio de cada semana hay 30 unidades de $X$ y 90 unidades de $Y$ en el inventario. Se pronostica que el tiempo de procesamiento disponible en la máquina $A$ será de 40 horas y en la máquina $B$ de 35 horas, condierando mantenimientos ya programados.\n",
        "\n",
        "Se pronostica que la demanda para el final de la semana será: 75 unidades de $X$ y 95 unidades de $Y$. La política de la empresa es maximizar la suma combinada de las unidades de $X$ y las unidades de $Y$ en el inventario al final de la semana."
      ],
      "metadata": {
        "id": "Q1V5-76nY9am"
      }
    },
    {
      "cell_type": "markdown",
      "source": [
        "###Solución:\n",
        "\n",
        "_aquí va el sistema de ecuaciones_\n",
        "$$ z = ¿? $$"
      ],
      "metadata": {
        "id": "7owqXeMbbPFy"
      }
    },
    {
      "cell_type": "markdown",
      "source": [
        "*Función objetivo: Minimizar el costo:*\n",
        "\n",
        "$$C=300x\n",
        "A\n",
        "​\n",
        " +500x\n",
        "B\n",
        "​\n",
        "$$\n",
        "\n",
        "*Restricciones: Producción de gasolina:*\n",
        "$$ 20x\n",
        "A\n",
        "​\n",
        " +40x\n",
        "B\n",
        "​\n",
        " ≥1000\n",
        " $$\n",
        "\n",
        "*Producción de diesel:*\n",
        "$$25x\n",
        "A\n",
        "​\n",
        " +20x\n",
        "B\n",
        "​\n",
        " ≥800\n",
        " $$\n",
        "*-------------------------------------------------------------------------------------------------------------------------------------*\n",
        "$$x\n",
        "A\n",
        "​\n",
        " ≥0,x\n",
        "B\n",
        "​\n",
        " ≥0\n",
        " $$"
      ],
      "metadata": {
        "id": "wXY4I2jwIGsY"
      }
    },
    {
      "cell_type": "code",
      "source": [],
      "metadata": {
        "id": "wnBumj6MbW9k"
      },
      "execution_count": null,
      "outputs": []
    },
    {
      "cell_type": "code",
      "source": [
        "import numpy as np\n",
        "import matplotlib.pyplot as plt\n",
        "from scipy.optimize import linprog\n",
        "\n",
        "# Coeficientes de la función objetivo (costos)\n",
        "c = [300, 500]\n",
        "\n",
        "# Coeficientes de las restricciones (Ax >= b)\n",
        "A = [[-20, -40],  # Para gasolina\n",
        "     [-25, -20]]  # Para diesel\n",
        "\n",
        "b = [-1000, -800]\n",
        "\n",
        "# Límites de las variables (x_A, x_B >= 0)\n",
        "x0_bounds = (0, None)\n",
        "x1_bounds = (0, None)\n",
        "\n",
        "# Resolver el problema\n",
        "res = linprog(c, A_ub=A, b_ub=b, bounds=[x0_bounds, x1_bounds], method='highs')\n",
        "\n",
        "print(f\"Días que debe operar la refinería A: {res.x[0]:2.0f}\")\n",
        "print(f\"Días que debe operar la refinería B: {res.x[1]:2.0f}\")\n",
        "print(f\"Costo mínimo: {res.fun:2.0f}\")\n"
      ],
      "metadata": {
        "id": "BeAkukFsHRbd",
        "outputId": "063e8a78-c4ef-4453-c55e-51918f7d4523",
        "colab": {
          "base_uri": "https://localhost:8080/"
        }
      },
      "execution_count": null,
      "outputs": [
        {
          "output_type": "stream",
          "name": "stdout",
          "text": [
            "Días que debe operar la refinería A: 20\n",
            "Días que debe operar la refinería B: 15\n",
            "Costo mínimo: 13500\n"
          ]
        }
      ]
    },
    {
      "cell_type": "code",
      "source": [],
      "metadata": {
        "id": "Mn7uxXQ_ICsL"
      },
      "execution_count": null,
      "outputs": []
    },
    {
      "cell_type": "code",
      "source": [
        "# Gráfica de las restricciones\n",
        "x = np.linspace(0, 30, 200)\n",
        "\n",
        "# Restricción 1 (Gasolina)\n",
        "y1 = (1000 - 20 * x) / 40\n",
        "# Restricción 2 (Diesel)\n",
        "y2 = (800 - 25 * x) / 20\n",
        "\n",
        "plt.figure(figsize=(10, 8))\n",
        "plt.plot(x, y1, label='20x_A + 40x_B = 1000', color='blue')\n",
        "plt.plot(x, y2, label='25x_A + 20x_B = 800', color='red')\n",
        "\n",
        "# Rellenar la región factible\n",
        "plt.fill_between(x, np.minimum(y1, y2), 0, where=(y1 > 0) & (y2 > 0), color='gray', alpha=0.5)\n",
        "\n",
        "plt.xlim(0, 30)\n",
        "plt.ylim(0, 50)\n",
        "plt.xlabel('Días que opera la refinería A (x_A)')\n",
        "plt.ylabel('Días que opera la refinería B (x_B)')\n",
        "plt.title('Restricciones y región factible')\n",
        "plt.axhline(0, color='black',linewidth=0.5, ls='--')\n",
        "plt.axvline(0, color='black',linewidth=0.5, ls='--')\n",
        "plt.grid()\n",
        "plt.legend()\n",
        "plt.scatter(res.x[0], res.x[1], color='green', label='Solución óptima')\n",
        "plt.legend()\n",
        "plt.show()\n"
      ],
      "metadata": {
        "id": "wXIXzwpYMfzD",
        "outputId": "32f9371b-38c8-46eb-8885-a346694266a9",
        "colab": {
          "base_uri": "https://localhost:8080/",
          "height": 719
        }
      },
      "execution_count": null,
      "outputs": [
        {
          "output_type": "display_data",
          "data": {
            "text/plain": [
              "<Figure size 1000x800 with 1 Axes>"
            ],
            "image/png": "[encoded data removed]"
          },
          "metadata": {}
        }
      ]
    },
    {
      "cell_type": "markdown",
      "source": [],
      "metadata": {
        "id": "HponprGEKzMT"
      }
    }
  ]
}