{
  "nbformat": 4,
  "nbformat_minor": 0,
  "metadata": {
    "colab": {
      "provenance": [],
      "toc_visible": true,
      "include_colab_link": true
    },
    "kernelspec": {
      "name": "python3",
      "display_name": "Python 3"
    },
    "language_info": {
      "name": "python"
    }
  },
  "cells": [
    {
      "cell_type": "markdown",
      "metadata": {
        "id": "view-in-github",
        "colab_type": "text"
      },
      "source": [
        "<a href=\"https://colab.research.google.com/github/CrysisDavid/ProgramacionLineal/blob/main/Taller1_NumPy.ipynb\" target=\"_parent\"><img src=\"https://colab.research.google.com/assets/colab-badge.svg\" alt=\"Open In Colab\"/></a>"
      ]
    },
    {
      "cell_type": "markdown",
      "source": [
        "# Corporación Universitaria Remington\n",
        "## Ingeniería de Sistemas\n",
        "### Prof. Diego Fernando Marin -  ```diego.marin@uniremington.edu.co```"
      ],
      "metadata": {
        "id": "ozGp4KL4MPxS"
      }
    },
    {
      "cell_type": "markdown",
      "source": [
        "## Presentado por:\n",
        "\n",
        "- Curso: *Nombre de la Materia*\n",
        "- Nombre: *Nombre completo del estudiante*\n",
        "- Correo: *Correo institucional del estudiante*"
      ],
      "metadata": {
        "id": "1UpCwZ63wG8-"
      }
    },
    {
      "cell_type": "markdown",
      "source": [
        "# Numpy\n",
        "\n",
        "[NumPy](https://numpy.org/) proporciona una forma eficiente de manipular arreglos multi-dimensionales en Python. Sus características más importantes son:\n",
        "- Ofrece la estructura ``ndarray``, que permite trabajar con vectores, matrices y arreglos multi-dimensionales en forma eficiente (memoria y procesamiento)\n",
        "- Provee una sintaxis legible y eficiente para trabajar con dichos datos, desde operadores aritméticos básicos que operan a nivel del elemento, hasta operaciones algebraicas complejas.\n",
        "- A diferencia de las listas, los elementos en un arreglo de Numpy deben tener todos el mismo tipo."
      ],
      "metadata": {
        "id": "UXLfEk_3NV7J"
      }
    },
    {
      "cell_type": "code",
      "source": [
        "# la forma convencional de importar la librería Numpy\n",
        "import numpy as np\n",
        "np.__version__"
      ],
      "metadata": {
        "id": "CxQIiGIiNexI",
        "colab": {
          "base_uri": "https://localhost:8080/",
          "height": 35
        },
        "outputId": "a9c12e59-bef0-49ef-b390-7f1886ec79e3"
      },
      "execution_count": null,
      "outputs": [
        {
          "output_type": "execute_result",
          "data": {
            "text/plain": [
              "'1.22.4'"
            ],
            "application/vnd.google.colaboratory.intrinsic+json": {
              "type": "string"
            }
          },
          "metadata": {},
          "execution_count": 3
        }
      ]
    },
    {
      "cell_type": "markdown",
      "source": [
        "## Creación de arreglos"
      ],
      "metadata": {
        "id": "Pk_hsHiciCpF"
      }
    },
    {
      "cell_type": "markdown",
      "source": [
        "**arreglos**, equivalente a vectores (unidimensionales) y matrices (multidimensionales) de Numpy"
      ],
      "metadata": {
        "id": "F_7Sd89WNr3V"
      }
    },
    {
      "cell_type": "code",
      "source": [
        "# arreglo unidimensional\n"
      ],
      "metadata": {
        "id": "_nS04tLrNcNt"
      },
      "execution_count": null,
      "outputs": []
    },
    {
      "cell_type": "code",
      "source": [
        "# arreglo bidimensional\n"
      ],
      "metadata": {
        "id": "Nc4oeewFNx6M"
      },
      "execution_count": null,
      "outputs": []
    },
    {
      "cell_type": "code",
      "source": [
        "# matriz 3x3\n"
      ],
      "metadata": {
        "id": "HTPtIj08HiRh"
      },
      "execution_count": null,
      "outputs": []
    },
    {
      "cell_type": "code",
      "source": [
        "# transpuesta\n"
      ],
      "metadata": {
        "id": "7X7sqOsUH_CO"
      },
      "execution_count": null,
      "outputs": []
    },
    {
      "cell_type": "code",
      "source": [
        "# matrix inversa\n"
      ],
      "metadata": {
        "id": "C5_IVIBuHWO1"
      },
      "execution_count": null,
      "outputs": []
    },
    {
      "cell_type": "code",
      "source": [
        "# producto punto\n"
      ],
      "metadata": {
        "id": "N_KrXOoPHs0v"
      },
      "execution_count": null,
      "outputs": []
    },
    {
      "cell_type": "code",
      "source": [
        "# arreglo tridimensional 3x2x4\n"
      ],
      "metadata": {
        "id": "EWrf-TVmPZg2"
      },
      "execution_count": null,
      "outputs": []
    },
    {
      "cell_type": "markdown",
      "source": [
        "## Indexado de arreglos"
      ],
      "metadata": {
        "id": "MxzwdsR1iIkb"
      }
    },
    {
      "cell_type": "code",
      "source": [
        "# todo el arreglo 1D\n"
      ],
      "metadata": {
        "id": "Xz455n4_iQ6H"
      },
      "execution_count": null,
      "outputs": []
    },
    {
      "cell_type": "code",
      "source": [
        "# primer elemento\n"
      ],
      "metadata": {
        "id": "LVD2cnANiK4q"
      },
      "execution_count": null,
      "outputs": []
    },
    {
      "cell_type": "code",
      "source": [
        "# último elemento\n"
      ],
      "metadata": {
        "id": "g7GPMpL3irTi"
      },
      "execution_count": null,
      "outputs": []
    },
    {
      "cell_type": "code",
      "source": [
        "# tercer elemento\n"
      ],
      "metadata": {
        "id": "c9dYeHu8iua7"
      },
      "execution_count": null,
      "outputs": []
    },
    {
      "cell_type": "code",
      "source": [
        "# del 3to al 6to\n"
      ],
      "metadata": {
        "id": "akSgVPv3i1eh"
      },
      "execution_count": null,
      "outputs": []
    },
    {
      "cell_type": "code",
      "source": [
        "# todo el arreglo 2D\n"
      ],
      "metadata": {
        "id": "CQwDZqLnjA4b"
      },
      "execution_count": null,
      "outputs": []
    },
    {
      "cell_type": "code",
      "source": [
        "# primer elemento de cada fila = primera columna\n"
      ],
      "metadata": {
        "id": "1gsvUjAXjIMo"
      },
      "execution_count": null,
      "outputs": []
    },
    {
      "cell_type": "code",
      "source": [
        "# primer elemento de cada columna = primera fila\n"
      ],
      "metadata": {
        "id": "6V-_N6OmjNnc"
      },
      "execution_count": null,
      "outputs": []
    },
    {
      "cell_type": "code",
      "source": [
        "# último elemento de cada fila = última columna\n"
      ],
      "metadata": {
        "id": "yP7BknAljBCJ"
      },
      "execution_count": null,
      "outputs": []
    },
    {
      "cell_type": "code",
      "source": [
        "# último elemento de cada columna = última fila\n"
      ],
      "metadata": {
        "id": "PgxUqcK3j6Wm"
      },
      "execution_count": null,
      "outputs": []
    },
    {
      "cell_type": "code",
      "source": [
        "# las columnas 2da y 3ra\n"
      ],
      "metadata": {
        "id": "28P-6HgEkw-5"
      },
      "execution_count": null,
      "outputs": []
    },
    {
      "cell_type": "markdown",
      "source": [
        "## Recorrido de arreglos"
      ],
      "metadata": {
        "id": "obYwiy_iv5fK"
      }
    },
    {
      "cell_type": "code",
      "source": [
        "# 1D -> 1 ciclo\n"
      ],
      "metadata": {
        "id": "5uFbdgDCv77a"
      },
      "execution_count": null,
      "outputs": []
    },
    {
      "cell_type": "code",
      "source": [
        "# 2D -> 2 ciclos\n"
      ],
      "metadata": {
        "id": "OrgKTcbvwIzw"
      },
      "execution_count": null,
      "outputs": []
    },
    {
      "cell_type": "markdown",
      "source": [
        "## Concatenar y Apilar"
      ],
      "metadata": {
        "id": "nqegMcVlwt7a"
      }
    },
    {
      "cell_type": "code",
      "source": [
        "# matrices de ejemplo:\n",
        "a = np.array([[2, 3, 8],[4, 9, 5]])\n",
        "b = np.array([[7, 6, 5],[1, 8, 4]])"
      ],
      "metadata": {
        "id": "imWYA9I9w0hO"
      },
      "execution_count": null,
      "outputs": []
    },
    {
      "cell_type": "code",
      "source": [
        "# concatenar verticalmente\n"
      ],
      "metadata": {
        "id": "0TPUhXTCxIk_"
      },
      "execution_count": null,
      "outputs": []
    },
    {
      "cell_type": "code",
      "source": [
        "# apilar verticalmente\n"
      ],
      "metadata": {
        "id": "aZMmcT_ExwAu"
      },
      "execution_count": null,
      "outputs": []
    },
    {
      "cell_type": "code",
      "source": [
        "# concatenar horizontalmente\n"
      ],
      "metadata": {
        "id": "tACTpY-lxQ2O"
      },
      "execution_count": null,
      "outputs": []
    },
    {
      "cell_type": "code",
      "source": [
        "# apilar horizontalmente\n"
      ],
      "metadata": {
        "id": "yNgxkqpvxuMa"
      },
      "execution_count": null,
      "outputs": []
    },
    {
      "cell_type": "markdown",
      "source": [
        "## Separar arreglos"
      ],
      "metadata": {
        "id": "-pntZfZ3yNz_"
      }
    },
    {
      "cell_type": "code",
      "source": [
        "np.array_split(vec1, 2)"
      ],
      "metadata": {
        "id": "jgSUixd4yQn0"
      },
      "execution_count": null,
      "outputs": []
    },
    {
      "cell_type": "code",
      "source": [
        "np.array_split(vec1, 3)"
      ],
      "metadata": {
        "id": "9luTdfaSydbn"
      },
      "execution_count": null,
      "outputs": []
    },
    {
      "cell_type": "markdown",
      "source": [
        "## Generar números aleatorios"
      ],
      "metadata": {
        "id": "AqzwOhzT07WT"
      }
    },
    {
      "cell_type": "code",
      "source": [
        "# 15 números aleatorios enteros entre 0 y 100\n"
      ],
      "metadata": {
        "id": "KP0kXeyW0-cI"
      },
      "execution_count": null,
      "outputs": []
    },
    {
      "cell_type": "code",
      "source": [
        "# 10 números aleatorios flotantes entre 0 y 1\n"
      ],
      "metadata": {
        "id": "J4erV9M61h6T"
      },
      "execution_count": null,
      "outputs": []
    },
    {
      "cell_type": "code",
      "source": [
        "# matriz 3x5, con números aleatorios enteros entre 0 y 100\n"
      ],
      "metadata": {
        "id": "ZQjFxgOf1R_-"
      },
      "execution_count": null,
      "outputs": []
    },
    {
      "cell_type": "code",
      "source": [
        "# matriz 3x5, con números aleatorios flotantes entre 0 y 1\n"
      ],
      "metadata": {
        "id": "-qJq_Sbu1w9d"
      },
      "execution_count": null,
      "outputs": []
    },
    {
      "cell_type": "markdown",
      "source": [
        "# Ejercicios"
      ],
      "metadata": {
        "id": "196LKyXLgTlE"
      }
    },
    {
      "cell_type": "markdown",
      "source": [
        "## 1. Operaciones con Vectores (arreglos 1-D)\n",
        "\n",
        "Dadas los siguientes vectores:\n",
        "\n",
        "$$ a = \\begin{bmatrix}4 & 9 & 1 & 5 & 2 & 7 & 8 & 6 & 3\\end{bmatrix}$$\n",
        "\n",
        "$$ b = \\begin{bmatrix}9 & 6 & 2 & 3 & 7 & 8 & 1 & 5 & 4\\end{bmatrix}$$\n"
      ],
      "metadata": {
        "id": "ZtW8vBbfgWSq"
      }
    },
    {
      "cell_type": "markdown",
      "source": [
        "1.1. cree los vectores $a$ y $b$:\n"
      ],
      "metadata": {
        "id": "7dIUQj7epk_9"
      }
    },
    {
      "cell_type": "code",
      "source": [],
      "metadata": {
        "id": "pIiGVl-3hgL-"
      },
      "execution_count": null,
      "outputs": []
    },
    {
      "cell_type": "markdown",
      "source": [
        "1.2. seleccione el primer elemento de $a$:"
      ],
      "metadata": {
        "id": "QkvfxfvtpqD6"
      }
    },
    {
      "cell_type": "code",
      "source": [],
      "metadata": {
        "id": "PI8HUiaPhk8H"
      },
      "execution_count": null,
      "outputs": []
    },
    {
      "cell_type": "markdown",
      "source": [
        "1.3. seleccione el último elemento de $b$:"
      ],
      "metadata": {
        "id": "lVl9XS2NpxMg"
      }
    },
    {
      "cell_type": "code",
      "source": [],
      "metadata": {
        "id": "OYaEV-1ThoTH"
      },
      "execution_count": null,
      "outputs": []
    },
    {
      "cell_type": "markdown",
      "source": [
        "1.4. seleccione los primeros 4 elementos de $b$:\n"
      ],
      "metadata": {
        "id": "U-K3yUsop04Q"
      }
    },
    {
      "cell_type": "code",
      "source": [],
      "metadata": {
        "id": "_aWAcZHUhqdv"
      },
      "execution_count": null,
      "outputs": []
    },
    {
      "cell_type": "markdown",
      "source": [
        "1.5. seleccione los últimos 4 elementos de $a$:"
      ],
      "metadata": {
        "id": "WNBP4P1hp4a5"
      }
    },
    {
      "cell_type": "code",
      "source": [],
      "metadata": {
        "id": "MAuxBjbChtXj"
      },
      "execution_count": null,
      "outputs": []
    },
    {
      "cell_type": "markdown",
      "source": [
        "1.6. cree un vector $c$ con los primeros 3 elementos de $b$ y los últimos 3 elementos de $a$:"
      ],
      "metadata": {
        "id": "s6cj3jcOp8RF"
      }
    },
    {
      "cell_type": "code",
      "source": [],
      "metadata": {
        "id": "KEedK5Kphw4C"
      },
      "execution_count": null,
      "outputs": []
    },
    {
      "cell_type": "markdown",
      "source": [
        "1.7. cree un vector $d$ con el resultado de vector $a$ por 3, más el vector $b$:"
      ],
      "metadata": {
        "id": "bbtQbzDyqBHM"
      }
    },
    {
      "cell_type": "code",
      "source": [],
      "metadata": {
        "id": "RZ8m9AdvhRWF"
      },
      "execution_count": null,
      "outputs": []
    },
    {
      "cell_type": "markdown",
      "source": [
        "1.8. multiplique el vector $a$ por el vector $b$:"
      ],
      "metadata": {
        "id": "vPnOH5r2qJLS"
      }
    },
    {
      "cell_type": "code",
      "source": [],
      "metadata": {
        "id": "JTycHPvth-u4"
      },
      "execution_count": null,
      "outputs": []
    },
    {
      "cell_type": "markdown",
      "source": [
        "1.9. si $p$ es el vector $[3, 5]$ y $q$ es el vector $[6, 2]$, cálcule en $r$la suma de dichos vectores:"
      ],
      "metadata": {
        "id": "JLa-VS4IqOL2"
      }
    },
    {
      "cell_type": "code",
      "source": [],
      "metadata": {
        "id": "evCQ4S78heRf"
      },
      "execution_count": null,
      "outputs": []
    },
    {
      "cell_type": "markdown",
      "source": [
        "1.10. cuál es la magnitud y cuál la dirección del vector $r$:"
      ],
      "metadata": {
        "id": "KBZy4ZJ8qWZe"
      }
    },
    {
      "cell_type": "code",
      "source": [],
      "metadata": {
        "id": "dywlm8cBqWwA"
      },
      "execution_count": null,
      "outputs": []
    },
    {
      "cell_type": "markdown",
      "source": [
        "## 2. Operaciones con Matrices (arreglos 2-D)\n",
        "\n",
        "Dadas las siguientes matrices:\n",
        "\n",
        "$$ a = \\begin{bmatrix}4 & 9 & 1\\\\ 5 & 2 & 7\\\\ 8 & 6 & 3\\end{bmatrix}$$\n",
        "\n",
        "$$ b = \\begin{bmatrix}9 & 6 & 2\\\\ 3 & 7 & 8\\\\ 1 & 5 & 4\\end{bmatrix}$$\n"
      ],
      "metadata": {
        "id": "xCjDxkOJhGks"
      }
    },
    {
      "cell_type": "markdown",
      "source": [
        "2.1. cree las matrices $a$ y $b$:\n"
      ],
      "metadata": {
        "id": "U4dGW5LOq3co"
      }
    },
    {
      "cell_type": "code",
      "source": [],
      "metadata": {
        "id": "zkOOR01kgVRK"
      },
      "execution_count": null,
      "outputs": []
    },
    {
      "cell_type": "markdown",
      "source": [
        "2.2. cálcule la matriz $c$ resultado de la suma de $a$ y $5 * b$:"
      ],
      "metadata": {
        "id": "ILCAoeCKq7Wa"
      }
    },
    {
      "cell_type": "code",
      "source": [],
      "metadata": {
        "id": "0fBsSQCirH-c"
      },
      "execution_count": null,
      "outputs": []
    },
    {
      "cell_type": "markdown",
      "source": [
        "2.3. cuál es la matriz traspuesta de $a$:"
      ],
      "metadata": {
        "id": "YCUWrqz7rIUn"
      }
    },
    {
      "cell_type": "code",
      "source": [],
      "metadata": {
        "id": "RHzYI453rMbM"
      },
      "execution_count": null,
      "outputs": []
    },
    {
      "cell_type": "markdown",
      "source": [
        "2.4. cuál es la matriz inversa de $a$, compruébelo:"
      ],
      "metadata": {
        "id": "kHye5dqOruTm"
      }
    },
    {
      "cell_type": "code",
      "source": [],
      "metadata": {
        "id": "IqivVaT4r1Ln"
      },
      "execution_count": null,
      "outputs": []
    },
    {
      "cell_type": "markdown",
      "source": [
        "2.5. cálcule la multiplicación de $a$ por $b$, y el producto punto de $a$ por $b$. cuál es la diferencia?"
      ],
      "metadata": {
        "id": "ZKeOmH5HsQyF"
      }
    },
    {
      "cell_type": "code",
      "source": [],
      "metadata": {
        "id": "lPLguiAgsabT"
      },
      "execution_count": null,
      "outputs": []
    },
    {
      "cell_type": "markdown",
      "source": [
        "2.6. multiplique la matriz $b$ por la matriz identidad $I_{3x3}$:"
      ],
      "metadata": {
        "id": "WIGQJTiyrNAy"
      }
    },
    {
      "cell_type": "code",
      "source": [],
      "metadata": {
        "id": "F8RWB6rnstFk"
      },
      "execution_count": null,
      "outputs": []
    },
    {
      "cell_type": "markdown",
      "source": [
        "2.7. cuál es el determinante de la matriz $b$:"
      ],
      "metadata": {
        "id": "mb_1m-5TuSNp"
      }
    },
    {
      "cell_type": "code",
      "source": [],
      "metadata": {
        "id": "2UihB5OBuSfi"
      },
      "execution_count": null,
      "outputs": []
    },
    {
      "cell_type": "markdown",
      "source": [
        "2.8. cree el vector $u$ con la primera columna de la matriz $a$, y el vector $v$ con la última fila de la matriz $b$:"
      ],
      "metadata": {
        "id": "ja8tohVzuSp6"
      }
    },
    {
      "cell_type": "code",
      "source": [],
      "metadata": {
        "id": "6kPo0R1huS24"
      },
      "execution_count": null,
      "outputs": []
    },
    {
      "cell_type": "markdown",
      "source": [
        "2.9. cree una matriz aumentada que represente el siguiente sistema de ecuaciones:\n",
        "\n",
        "$$\\begin{Bmatrix} 3x - 2y = 3 \\\\  5x + y = 0 \\end{Bmatrix}$$"
      ],
      "metadata": {
        "id": "ukhmMznvpf6V"
      }
    },
    {
      "cell_type": "code",
      "source": [],
      "metadata": {
        "id": "4pYFcWMWpenq"
      },
      "execution_count": null,
      "outputs": []
    },
    {
      "cell_type": "markdown",
      "source": [
        "2.10. cree una matriz aumentada que represente el siguiente sistema de ecuaciones:\n",
        "\n",
        "$$\\begin{Bmatrix} 2x – 3y + 4z = –3 \\\\ – x + y + 2z = 1 \\\\ 5x – 2y – 3z = 7 \\end{Bmatrix}$$"
      ],
      "metadata": {
        "id": "cPygGRRiuELE"
      }
    },
    {
      "cell_type": "code",
      "source": [],
      "metadata": {
        "id": "AnPk2cSypTdc"
      },
      "execution_count": null,
      "outputs": []
    },
    {
      "cell_type": "markdown",
      "source": [
        "**Nota**:\n",
        "1. Saque una copia con la opción *Archivo* → *Guardar una copia en Drive*.\n",
        "2. Renombre el *cuaderno* a: `solucion_Taller1_NumPy_NombreCompleto.ipynb`.\n",
        "3. Ejecute todas las celdas para revisar los temas del taller.\n",
        "4. Solucione todos los puntos del taller.\n",
        "5. Comparta la solución y envié el link al profesor, antes de la fecha limite (no se aceptan fuera de tiempo).\n",
        "6. No copie! la copia tiene nota **1.0**."
      ],
      "metadata": {
        "id": "AZuzKsf-vrmm"
      }
    }
  ]
}