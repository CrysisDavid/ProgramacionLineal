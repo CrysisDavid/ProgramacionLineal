{
  "cells": [
    {
      "cell_type": "markdown",
      "metadata": {
        "colab_type": "text",
        "id": "view-in-github"
      },
      "source": [
        "<a href=\"https://colab.research.google.com/github/CrysisDavid/ProgramacionLineal/blob/main/Ejemplo_Programacion_Lineal.ipynb\" target=\"_parent\"><img src=\"https://colab.research.google.com/assets/colab-badge.svg\" alt=\"Open In Colab\"/></a>"
      ]
    },
    {
      "cell_type": "markdown",
      "metadata": {
        "id": "-8qnr1XqgXnO"
      },
      "source": [
        "# Ejemplo de Programación Lineal\n",
        "\n",
        "Este es un ejemplo de solución de un problema de **Programación Lineal**, utilizando [NumPy](https://numpy.org), [SciPy](https://www.scipy.org), y [Matplotlib](https://matplotlib.org).\n",
        "\n",
        "- Diego Fernando Marin"
      ]
    },
    {
      "cell_type": "markdown",
      "metadata": {},
      "source": [
        "## Hola, this is a control version tool\n"
      ]
    },
    {
      "cell_type": "markdown",
      "metadata": {
        "id": "E-S4CyEyhgtd"
      },
      "source": [
        "Importar las librerías necesarias:"
      ]
    },
    {
      "cell_type": "code",
      "execution_count": 1,
      "metadata": {
        "id": "40brGWpK16GG"
      },
      "outputs": [],
      "source": [
        "import numpy as np\n",
        "from scipy.optimize import linprog\n",
        "import matplotlib.pyplot as plt"
      ]
    },
    {
      "cell_type": "markdown",
      "metadata": {
        "id": "PNObvXQg2RJ5"
      },
      "source": [
        "## Problema:\n",
        "\n",
        "Una fabrica produce 2 productos llamados **A** y **B**.\n",
        "\n",
        "Para fabricar cada producto se necesita un cantidad determinada de unidades de materiales y de unidades de tiempo de trabajo, la venta de cada unidad de producto genera un ingreso, de acuerdo a esta tabla:\n",
        "\n",
        "||producto A|producto B|\n",
        "|:--|:-:|:-:|\n",
        "|Material|2|5|\n",
        "|Tiempo de Trabajo|4|2|\n",
        "|Ingreso|3|4|\n",
        "\n",
        "La fabrica dispone de 30 unidades de materiales y 20 unidades de tiempo de trabajo.\n",
        "\n",
        "La fabrica necesita un plan de producción que le indique cuántas unidades de cada producto debe fabricar con los recursos disponibles de tal forma que pueda obtener el máximo de utilidad.\n"
      ]
    },
    {
      "cell_type": "markdown",
      "metadata": {
        "id": "BX1p4uzf3-Cz"
      },
      "source": [
        "$$ \\max_{x,y} \\quad z = 3x + 4y \\\\\n",
        "sujeto\\ a:\\\\\n",
        "2x + 5y \\quad \\leq 30 \\\\\n",
        "4x + 2y \\quad \\leq 20 \\\\\n",
        "\\quad x, y \\quad \\geq 0 $$"
      ]
    },
    {
      "cell_type": "markdown",
      "metadata": {
        "id": "viaDjdHSlIal"
      },
      "source": [
        "## Solución numérica:"
      ]
    },
    {
      "cell_type": "code",
      "execution_count": 2,
      "metadata": {
        "id": "fkBwNmpcDX8n"
      },
      "outputs": [
        {
          "name": "stdout",
          "output_type": "stream",
          "text": [
            "solución: x=2.5 y=5.0 ingresos $27.5\n"
          ]
        }
      ],
      "source": [
        "# función objetivo z: [x, y]\n",
        "z = [-3, -4] # negativo porque la funcion objetivo es maximizar\n",
        "# restricciones:\n",
        "A = [[2, 5], [4, 2]]\n",
        "b = [30, 20]\n",
        "# limites (min, max)\n",
        "x_lim = (0, None) # >= 0 -> entre 0 e infinito\n",
        "y_lim = (0, None)\n",
        "# solución: función objetivo = z, restricciones = A, b, limites = x_lim, y_lim\n",
        "sol = linprog(z, A_ub=A, b_ub=b, bounds=[x_lim, y_lim])\n",
        "print(f\"solución: x={sol.x[0]} y={sol.x[1]} ingresos ${-sol.fun}\")"
      ]
    },
    {
      "cell_type": "markdown",
      "metadata": {
        "id": "niqDNWn_ohp4"
      },
      "source": [
        "## Solución gráfica"
      ]
    },
    {
      "cell_type": "code",
      "execution_count": 3,
      "metadata": {
        "id": "-H-2ZpVmlwZW"
      },
      "outputs": [],
      "source": [
        "# valores de x\n",
        "xs = np.linspace(-1, 15, 100) # x_min, x_max, numero de puntos\n",
        "# funciones de las restricciones\n",
        "y1 = (30 - 2*xs)/5\n",
        "y2 = (20 - 4*xs)/2\n",
        "# limite inferior para las áreas\n",
        "y3 = np.zeros_like(xs)"
      ]
    },
    {
      "cell_type": "code",
      "execution_count": null,
      "metadata": {
        "id": "JupvSMmDo0CQ"
      },
      "outputs": [],
      "source": [
        "# figura\n",
        "fig, ax = plt.subplots()\n",
        "# limites de y\n",
        "ax.set_ylim(-1, 13)\n",
        "# graficar las restricciones\n",
        "ax.plot(xs, y1, 'r')\n",
        "ax.plot(xs, y2, 'g')\n",
        "plt.fill_between(xs, y1, y3, where=y1>=y3, alpha=0.25)\n",
        "plt.fill_between(xs, y2, y3, where=y2>=y3, alpha=0.25)\n",
        "# graficar las posibles \"soluciones\"\n",
        "for yi in np.linspace(0, -sol.fun, 10):\n",
        "  yx = (yi-3*xs)/4\n",
        "  ax.plot(xs, yx, 'm:')\n",
        "# resaltar la solución óptima\n",
        "ax.plot(xs, yx, 'm-')\n",
        "ax.plot(sol.x[0], sol.x[1], \"ko\")\n",
        "# textos\n",
        "ax.text(0, 11, \"$2x + 5y \\leq 30$\", size=10)\n",
        "ax.text(11, 2.3, \"$4x + 2y \\leq 20$\", size=10)\n",
        "ax.text(2.7, 5.2, \"Solución Óptima: max $3x + 4y$\", size=10)\n",
        "# mostrar\n",
        "ax.grid()\n",
        "plt.show()"
      ]
    }
  ],
  "metadata": {
    "colab": {
      "include_colab_link": true,
      "provenance": []
    },
    "kernelspec": {
      "display_name": "Python 3",
      "name": "python3"
    },
    "language_info": {
      "codemirror_mode": {
        "name": "ipython",
        "version": 3
      },
      "file_extension": ".py",
      "mimetype": "text/x-python",
      "name": "python",
      "nbconvert_exporter": "python",
      "pygments_lexer": "ipython3",
      "version": "3.12.2"
    }
  },
  "nbformat": 4,
  "nbformat_minor": 0
}
