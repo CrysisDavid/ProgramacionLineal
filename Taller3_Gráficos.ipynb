{
  "nbformat": 4,
  "nbformat_minor": 0,
  "metadata": {
    "colab": {
      "provenance": [],
      "include_colab_link": true
    },
    "kernelspec": {
      "name": "python3",
      "display_name": "Python 3"
    },
    "language_info": {
      "name": "python"
    }
  },
  "cells": [
    {
      "cell_type": "markdown",
      "metadata": {
        "id": "view-in-github",
        "colab_type": "text"
      },
      "source": [
        "<a href=\"https://colab.research.google.com/github/CrysisDavid/ProgramacionLineal/blob/main/Taller3_Gr%C3%A1ficos.ipynb\" target=\"_parent\"><img src=\"https://colab.research.google.com/assets/colab-badge.svg\" alt=\"Open In Colab\"/></a>"
      ]
    },
    {
      "cell_type": "markdown",
      "source": [
        "# Corporación Universitaria Remington\n",
        "## Ingeniería de Sistemas\n",
        "### Prof. Diego Fernando Marin -  ```diego.marin@uniremington.edu.co```"
      ],
      "metadata": {
        "id": "FQ5DQ4J_fWd8"
      }
    },
    {
      "cell_type": "markdown",
      "source": [
        "## Presentado por:\n",
        "\n",
        "- Curso: *Nombre de la Materia*\n",
        "- Nombre: *Nombre completo del estudiante*\n",
        "- Correo: *Correo institucional del estudiante*"
      ],
      "metadata": {
        "id": "JulDXu6ufY4V"
      }
    },
    {
      "cell_type": "code",
      "execution_count": null,
      "metadata": {
        "id": "8COFtecjVre7"
      },
      "outputs": [],
      "source": [
        "# Librerias\n",
        "import numpy as np\n",
        "import sympy as sy\n",
        "import matplotlib.pyplot as plt\n",
        "from scipy.optimize import linprog"
      ]
    },
    {
      "cell_type": "code",
      "source": [
        "x, y, z, t = sy.symbols('x y z t', real=True)"
      ],
      "metadata": {
        "id": "v97zDyanfhzd"
      },
      "execution_count": null,
      "outputs": []
    },
    {
      "cell_type": "code",
      "source": [
        "f = 5*x - 2*x + 8\n",
        "sy.solve(f, x)"
      ],
      "metadata": {
        "id": "TzSF0hjJfsZu",
        "colab": {
          "base_uri": "https://localhost:8080/"
        },
        "outputId": "8aafe007-82f9-487a-e4bd-1cbcb0ad7589"
      },
      "execution_count": null,
      "outputs": [
        {
          "output_type": "execute_result",
          "data": {
            "text/plain": [
              "[-8/3]"
            ]
          },
          "metadata": {},
          "execution_count": 3
        }
      ]
    },
    {
      "cell_type": "code",
      "source": [
        "f = x**2 - 3*x - 6\n",
        "sy.solve(f, x)"
      ],
      "metadata": {
        "id": "zBJPbpNTf50E",
        "colab": {
          "base_uri": "https://localhost:8080/"
        },
        "outputId": "563d352f-109c-4aeb-d90d-efab9633299e"
      },
      "execution_count": null,
      "outputs": [
        {
          "output_type": "execute_result",
          "data": {
            "text/plain": [
              "[3/2 - sqrt(33)/2, 3/2 + sqrt(33)/2]"
            ]
          },
          "metadata": {},
          "execution_count": 4
        }
      ]
    },
    {
      "cell_type": "markdown",
      "source": [
        "Tenemos un triangulo rectángulo, uno de sus angulos es 32º mayor que el otro.\n",
        "Cuánto miden los angulos?"
      ],
      "metadata": {
        "id": "sQjy5N9SgWCY"
      }
    },
    {
      "cell_type": "code",
      "source": [
        "sy.solve(\n",
        "\n",
        ")"
      ],
      "metadata": {
        "id": "xQqLyTd9gVhh",
        "colab": {
          "base_uri": "https://localhost:8080/"
        },
        "outputId": "bbf357e5-a232-4bd6-ab22-0650188e5d5f"
      },
      "execution_count": null,
      "outputs": [
        {
          "output_type": "execute_result",
          "data": {
            "text/plain": [
              "[29]"
            ]
          },
          "metadata": {},
          "execution_count": 5
        }
      ]
    },
    {
      "cell_type": "markdown",
      "source": [
        "la distancia entre Cali y Medellín son 411km. Un vehículo sale de Cali hacia Medellín a 90km/h. Al mismo tiempo sale otro vehiculo de Medellín hacia Cali a 80km/h. Suponiendo una velocidad constante en ambos vehiculos.\n",
        "\n",
        "¿cuánto tiempo tardan en encontrarse y cuánto han recorrido?"
      ],
      "metadata": {
        "id": "WdqzT4ZDhRUv"
      }
    },
    {
      "cell_type": "code",
      "source": [
        "# t = tiempo cuándo se encuentran\n",
        "# x = distancia desde Cali\n",
        "# y = distancia desde Medellín\n",
        "\n",
        "solucion = sy.solve(  )"
      ],
      "metadata": {
        "id": "Tp0kFSEihrHQ"
      },
      "execution_count": null,
      "outputs": []
    },
    {
      "cell_type": "code",
      "source": [
        "dist_cali =\n",
        "dist_mede =\n",
        "tiempo =\n",
        "\n",
        "print(f\"\"\"\n",
        "Los dos vehiculos se encuentran pasadas {tiempo:.2f} horas.\n",
        "Se encuentran a una distancia desde Cali de {dist_cali:.4f} km,\n",
        "y desde Medellín de {dist_mede:.4f} km.\n",
        "\"\"\")"
      ],
      "metadata": {
        "colab": {
          "base_uri": "https://localhost:8080/"
        },
        "id": "Y7wZ0H8R8weR",
        "outputId": "8961ce6a-7f1f-4bd3-9c0b-6bad68ff610c"
      },
      "execution_count": null,
      "outputs": [
        {
          "output_type": "stream",
          "name": "stdout",
          "text": [
            "\n",
            "Los dos vehiculos se encuentran pasadas 2.42 horas.\n",
            "Se encuentran a una distancia desde Cali de 193.4118 km,\n",
            "y desde Medellín de 217.5882 km.\n",
            "\n"
          ]
        }
      ]
    },
    {
      "cell_type": "markdown",
      "source": [
        "# Solución Gráfica"
      ],
      "metadata": {
        "id": "MbPU8dO8lFek"
      }
    },
    {
      "cell_type": "markdown",
      "source": [
        "$$ y_1 = x^2 $$\n",
        "$$ y_2 = \\sin(2x) $$\n",
        "$$ y_3 = 0.2 + 0.6x $$"
      ],
      "metadata": {
        "id": "IICYOkn_zCpz"
      }
    },
    {
      "cell_type": "code",
      "source": [
        "xs = np.linspace(0, 1, 100)\n",
        "y1 =\n",
        "y2 =\n",
        "y3 ="
      ],
      "metadata": {
        "id": "X0QFOL42lH6n"
      },
      "execution_count": null,
      "outputs": []
    },
    {
      "cell_type": "code",
      "source": [
        "fig, ax = plt.subplots()\n",
        "\n",
        "plt.show()"
      ],
      "metadata": {
        "id": "TZ2Ab8jIlbIC"
      },
      "execution_count": null,
      "outputs": []
    },
    {
      "cell_type": "markdown",
      "source": [
        "# Discontinuidades"
      ],
      "metadata": {
        "id": "rzxm3ogpmEY7"
      }
    },
    {
      "cell_type": "markdown",
      "source": [
        "$$ f(x) = \\frac{5x}{2x-7} $$"
      ],
      "metadata": {
        "id": "8XwLwg7FmJD7"
      }
    },
    {
      "cell_type": "code",
      "source": [
        "def f(x):\n",
        "  return"
      ],
      "metadata": {
        "id": "cIZKaVe5mGXb"
      },
      "execution_count": null,
      "outputs": []
    },
    {
      "cell_type": "code",
      "source": [
        "xs = np.linspace(-2, 8, 100)\n",
        "ys = f(xs)\n",
        "# encontrar las discontinuidades = singularities\n"
      ],
      "metadata": {
        "id": "CxLbD1VdmZ1B"
      },
      "execution_count": null,
      "outputs": []
    },
    {
      "cell_type": "code",
      "source": [
        "fig, ax = plt.subplots()\n",
        "\n",
        "plt.show()"
      ],
      "metadata": {
        "id": "-eijfITSnCFt"
      },
      "execution_count": null,
      "outputs": []
    },
    {
      "cell_type": "markdown",
      "source": [
        "$$ f(x) = x^2 + x + 1 $$"
      ],
      "metadata": {
        "id": "-95n0VQfn2Zz"
      }
    },
    {
      "cell_type": "code",
      "source": [
        "def f(x):\n",
        "  return"
      ],
      "metadata": {
        "id": "Bjib1Lifn4p9"
      },
      "execution_count": null,
      "outputs": []
    },
    {
      "cell_type": "code",
      "source": [
        "xs = np.linspace(-1000, 1000, 200)\n",
        "ys = f(xs)\n",
        "# encontrar las discontinuidades = singularities\n"
      ],
      "metadata": {
        "id": "Ms7-xY3uoRw-"
      },
      "execution_count": null,
      "outputs": []
    },
    {
      "cell_type": "code",
      "source": [
        "fig, ax = plt.subplots()\n",
        "\n",
        "plt.show()"
      ],
      "metadata": {
        "id": "SRzLnMzXobo8"
      },
      "execution_count": null,
      "outputs": []
    },
    {
      "cell_type": "markdown",
      "source": [
        "$$ f(x) = \\frac {1}{ x + 1} $$"
      ],
      "metadata": {
        "id": "mJTna3TAowVV"
      }
    },
    {
      "cell_type": "code",
      "source": [
        "def f(x):\n",
        "  return"
      ],
      "metadata": {
        "id": "8BlM96Osoy6u"
      },
      "execution_count": null,
      "outputs": []
    },
    {
      "cell_type": "code",
      "source": [
        "xs = np.linspace(-10, 10, 100)\n",
        "ys = f(xs)\n",
        "\n",
        "# encontrar las discontinuidades = singularities\n"
      ],
      "metadata": {
        "id": "Olft2Db9o6ex"
      },
      "execution_count": null,
      "outputs": []
    },
    {
      "cell_type": "code",
      "source": [
        "fig, ax = plt.subplots()\n",
        "\n",
        "\n",
        "plt.show()"
      ],
      "metadata": {
        "id": "SdI7jNLSpA0j"
      },
      "execution_count": null,
      "outputs": []
    },
    {
      "cell_type": "markdown",
      "source": [
        "$$ f(x) = \\frac {4x - 7}{ x^2 - x -6 } $$"
      ],
      "metadata": {
        "id": "Kh4wUmLcpNwz"
      }
    },
    {
      "cell_type": "code",
      "source": [
        "def f(x):\n",
        "  return"
      ],
      "metadata": {
        "id": "Wuuxw5k_pO2Q"
      },
      "execution_count": null,
      "outputs": []
    },
    {
      "cell_type": "code",
      "source": [
        "xs = np.linspace(-10, 10, 100)\n",
        "ys = f(xs)\n",
        "# encontrar las discontinuidades = singularities\n",
        "\n"
      ],
      "metadata": {
        "id": "ebT70m9LpR66"
      },
      "execution_count": null,
      "outputs": []
    },
    {
      "cell_type": "code",
      "source": [
        "fig, ax = plt.subplots()\n",
        "\n",
        "plt.show()"
      ],
      "metadata": {
        "id": "wSkvZdBophxu"
      },
      "execution_count": null,
      "outputs": []
    },
    {
      "cell_type": "markdown",
      "source": [
        "# Raices de una función"
      ],
      "metadata": {
        "id": "wF9IQkhBqPkn"
      }
    },
    {
      "cell_type": "markdown",
      "source": [
        "$$ f(x) = x^2 - 3x - 6 $$"
      ],
      "metadata": {
        "id": "kxWQEFdBqZ1n"
      }
    },
    {
      "cell_type": "code",
      "source": [
        "raices = sy.solve(\n",
        "\n",
        ")"
      ],
      "metadata": {
        "id": "Jx653FaZqR-X"
      },
      "execution_count": null,
      "outputs": []
    },
    {
      "cell_type": "code",
      "source": [
        "def f(x):\n",
        "  return"
      ],
      "metadata": {
        "id": "zGd1jNpNq7X8"
      },
      "execution_count": null,
      "outputs": []
    },
    {
      "cell_type": "code",
      "source": [
        "fig, ax = plt.subplots()\n",
        "xs =\n",
        "ys =\n",
        "ax.axhline(0, color='k') # colores: rgbcmywk\n",
        "# ciclo para pintar las raices\n",
        "\n",
        "ax.plot(xs, ys)"
      ],
      "metadata": {
        "id": "W68ppWP5q_09"
      },
      "execution_count": null,
      "outputs": []
    },
    {
      "cell_type": "markdown",
      "source": [
        "# Solución de un sistema de ecuaciones en forma gráfica"
      ],
      "metadata": {
        "id": "EZpTdD5PsACe"
      }
    },
    {
      "cell_type": "markdown",
      "source": [
        "$$ x + y_1 = 2 $$\n",
        "$$ x - y_2 = 0 $$"
      ],
      "metadata": {
        "id": "1qYLhJh3sMhD"
      }
    },
    {
      "cell_type": "code",
      "source": [
        "xs = np.linspace(-10, 10, 100)\n",
        "y1 =\n",
        "y2 ="
      ],
      "metadata": {
        "id": "tPPCGRh5sNRX"
      },
      "execution_count": null,
      "outputs": []
    },
    {
      "cell_type": "code",
      "source": [
        "# la ecuación de la recta: y = ax + b\n",
        "# se transforma con las matrices a y b, en: [a]x = [b]\n",
        "a =\n",
        "b =\n",
        "sol = np.linalg.solve(a, b)\n",
        "sol"
      ],
      "metadata": {
        "id": "i21o0LMmtRN9"
      },
      "execution_count": null,
      "outputs": []
    },
    {
      "cell_type": "code",
      "source": [
        "fig, ax = plt.subplots()\n",
        "\n",
        "plt.show()"
      ],
      "metadata": {
        "id": "EKYuXNjVstku"
      },
      "execution_count": null,
      "outputs": []
    },
    {
      "cell_type": "markdown",
      "source": [
        "$$ x + y_1 = 1 $$\n",
        "$$ x + y_2 = -1 $$"
      ],
      "metadata": {
        "id": "8e5SDjthvexF"
      }
    },
    {
      "cell_type": "code",
      "source": [
        "xs = np.linspace(-10, 10, 100)\n",
        "y1 =\n",
        "y2 ="
      ],
      "metadata": {
        "id": "iKdIydDtvhwv"
      },
      "execution_count": null,
      "outputs": []
    },
    {
      "cell_type": "code",
      "source": [
        "fig, ax = plt.subplots()\n",
        "\n",
        "plt.show()"
      ],
      "metadata": {
        "id": "K3wla3YUvsGX"
      },
      "execution_count": null,
      "outputs": []
    },
    {
      "cell_type": "markdown",
      "source": [
        "$$ x + y_1 = 1 $$\n",
        "$$ 2x + 2y_2 = 2 $$"
      ],
      "metadata": {
        "id": "xaGgHon8wIm9"
      }
    },
    {
      "cell_type": "code",
      "source": [
        "xs = np.linspace(-10, 10, 100)\n",
        "y1 =\n",
        "y2 ="
      ],
      "metadata": {
        "id": "vAr-tBrIwR_P"
      },
      "execution_count": null,
      "outputs": []
    },
    {
      "cell_type": "code",
      "source": [
        "fig, ax = plt.subplots()\n",
        "\n",
        "plt.grid()\n",
        "plt.show()"
      ],
      "metadata": {
        "id": "0L3--IY-whq8"
      },
      "execution_count": null,
      "outputs": []
    },
    {
      "cell_type": "markdown",
      "source": [
        "# Ejercicios"
      ],
      "metadata": {
        "id": "DTUQbTCg0d6X"
      }
    },
    {
      "cell_type": "markdown",
      "source": [
        "Encuentre graficamente las discontinuidades de las siguientes funciones:"
      ],
      "metadata": {
        "id": "6IP5ydai1XTQ"
      }
    },
    {
      "cell_type": "markdown",
      "source": [
        "$$ f(x) = \\frac {1}{ x^2 + 1} $$"
      ],
      "metadata": {
        "id": "7WfWs98d1gD_"
      }
    },
    {
      "cell_type": "code",
      "source": [
        "# 1\n"
      ],
      "metadata": {
        "id": "ouwicB930ffc"
      },
      "execution_count": null,
      "outputs": []
    },
    {
      "cell_type": "markdown",
      "source": [
        "$$ f(x) = \\frac {3}{ x^2 - 1 } $$"
      ],
      "metadata": {
        "id": "OPQlOGYk1iN2"
      }
    },
    {
      "cell_type": "code",
      "source": [
        "# 2\n"
      ],
      "metadata": {
        "id": "NzZFmKR51nwt"
      },
      "execution_count": null,
      "outputs": []
    },
    {
      "cell_type": "markdown",
      "source": [
        "Ecuentre las raices de la siguiente función y realice la solución en forma gráfica:\n",
        "\n",
        "$$f(x) = cos(x) - x^3$$"
      ],
      "metadata": {
        "id": "d4OBcqOF1rGe"
      }
    },
    {
      "cell_type": "code",
      "source": [
        "# 3\n"
      ],
      "metadata": {
        "id": "3sZQr6hq2WMh"
      },
      "execution_count": null,
      "outputs": []
    },
    {
      "cell_type": "markdown",
      "source": [
        "Halle la solución en forma gráfica de las siguientes ecuaciones:"
      ],
      "metadata": {
        "id": "IIUwejT42WuN"
      }
    },
    {
      "cell_type": "markdown",
      "source": [
        "$$ 2x + 5y = 4 $$\n",
        "$$ -x - y = -1 $$"
      ],
      "metadata": {
        "id": "jw7B_cRm2arl"
      }
    },
    {
      "cell_type": "code",
      "source": [
        "# 4\n"
      ],
      "metadata": {
        "id": "51Yt12Uo2bXh"
      },
      "execution_count": null,
      "outputs": []
    },
    {
      "cell_type": "markdown",
      "source": [
        "$$ 3x - y = 1 $$\n",
        "$$ -x + 2y = 8 $$"
      ],
      "metadata": {
        "id": "DWSO8E602bw9"
      }
    },
    {
      "cell_type": "code",
      "source": [
        "# 5\n"
      ],
      "metadata": {
        "id": "R_DlLbGy2eSb"
      },
      "execution_count": null,
      "outputs": []
    },
    {
      "cell_type": "markdown",
      "source": [
        "$$ 2x + 3y = -1 $$\n",
        "$$ 3x + 4y = 0 $$"
      ],
      "metadata": {
        "id": "Ig65ax0L2edd"
      }
    },
    {
      "cell_type": "code",
      "source": [
        "# 6\n"
      ],
      "metadata": {
        "id": "c9J273xc2hQb"
      },
      "execution_count": null,
      "outputs": []
    },
    {
      "cell_type": "markdown",
      "source": [
        "$$ \\frac {x + 3y}{2} = 5$$\n",
        "$$ 3x - y = 5y $$"
      ],
      "metadata": {
        "id": "1Xv61wS92jqh"
      }
    },
    {
      "cell_type": "code",
      "source": [
        "# 7\n"
      ],
      "metadata": {
        "id": "BZ6Zw_VC2kUS"
      },
      "execution_count": null,
      "outputs": []
    }
  ]
}